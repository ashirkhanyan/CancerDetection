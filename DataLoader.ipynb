{
 "cells": [
  {
   "cell_type": "code",
   "execution_count": 8,
   "id": "b1727795",
   "metadata": {},
   "outputs": [
    {
     "name": "stdout",
     "output_type": "stream",
     "text": [
      "Number of images: 918\n",
      "Number of images left out: 239\n"
     ]
    }
   ],
   "source": [
    "import torch\n",
    "from torchvision import transforms\n",
    "from PIL import Image\n",
    "import os\n",
    "import json\n",
    "from torch.utils.data import Dataset, DataLoader\n",
    "\n",
    "class UltrasoundDataset(Dataset):\n",
    "    def __init__(self, root_dir):\n",
    "        self.root_dir = root_dir\n",
    "        self.image_paths, self.labels, self.json_data_shape, self.counter = self._load_data()\n",
    "        self.transform = transforms.Compose([\n",
    "            transforms.ToTensor()\n",
    "        ])\n",
    "\n",
    "    def __len__(self):\n",
    "        return len(self.image_paths)\n",
    "\n",
    "    def __getitem__(self, index):\n",
    "        image_path = self.image_paths[index]\n",
    "        label = self.labels[index]\n",
    "        json_shape = self.json_data_shape[index]\n",
    "\n",
    "        image = self.transform(Image.open(image_path))\n",
    "\n",
    "        return image, label, json_shape\n",
    "\n",
    "    def _load_data(self):\n",
    "        image_paths = []\n",
    "        labels = []\n",
    "        json_data_shape = []\n",
    "        counter = 0\n",
    "        for dirpath, dirnames, filenames in os.walk(self.root_dir):\n",
    "            for filename in filenames:\n",
    "                if filename.lower().endswith(('.png', '.jpg', '.jpeg')):\n",
    "                    file_path = os.path.join(dirpath, filename)\n",
    "                    image_open = Image.open(file_path)\n",
    "                    width, height = image_open.size\n",
    "                    if width == 768 and height == 576:\n",
    "                        image_paths.append(file_path)\n",
    "                    else:\n",
    "                        counter += 1\n",
    "\n",
    "                    if 'benign' in file_path:\n",
    "                        label = 'benign'\n",
    "                    else:\n",
    "                        label = 'malignant'\n",
    "                    labels.append(label)\n",
    "\n",
    "                    json_path = os.path.splitext(file_path)[0] + '.json'\n",
    "                    with open(json_path) as json_file:\n",
    "                        data = json.load(json_file)\n",
    "                        json_data_shape.append(data['shapes'][0]['points'])\n",
    "\n",
    "        return image_paths, labels, json_data_shape, counter\n",
    "\n",
    "root_dir = 'CSE6748/Ultrasound-labeled'\n",
    "dataset = UltrasoundDataset(root_dir)\n",
    "\n",
    "dataloader = DataLoader(dataset, batch_size=32, shuffle=True, num_workers=0)\n",
    "\n",
    "# Example usage:\n",
    "for batch in dataloader:\n",
    "    images, labels, json_shapes = batch\n",
    "    # Do something with the batch of images, labels, and JSON shapes\n",
    "    pass\n",
    "\n",
    "# Print the number of loaded images, labels, and JSON data\n",
    "print(f\"Number of images: {len(dataset)}\")\n",
    "print(f\"Number of images left out: {dataset.counter}\")\n"
   ]
  },
  {
   "cell_type": "code",
   "execution_count": null,
   "id": "9dc149fb",
   "metadata": {},
   "outputs": [],
   "source": []
  }
 ],
 "metadata": {
  "kernelspec": {
   "display_name": "Python 3 (ipykernel)",
   "language": "python",
   "name": "python3"
  },
  "language_info": {
   "codemirror_mode": {
    "name": "ipython",
    "version": 3
   },
   "file_extension": ".py",
   "mimetype": "text/x-python",
   "name": "python",
   "nbconvert_exporter": "python",
   "pygments_lexer": "ipython3",
   "version": "3.8.8"
  }
 },
 "nbformat": 4,
 "nbformat_minor": 5
}
